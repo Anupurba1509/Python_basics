{
 "cells": [
  {
   "cell_type": "markdown",
   "id": "a3e4cf1b-0c53-4cd7-a8ad-a2430d632396",
   "metadata": {},
   "source": [
    "1) Explain the key features of Python that make it a popular choice for programming"
   ]
  },
  {
   "cell_type": "markdown",
   "id": "262128b1-0b22-49ac-98c5-ac3f5ef806f1",
   "metadata": {},
   "source": [
    "i) Readability and Simplicity\n",
    "ii) Versatility and Flexibility\n",
    "iii)Extensive Standard Library\n",
    "iv) Dynamic Typing\n",
    "v) Active Community and Support"
   ]
  },
  {
   "cell_type": "markdown",
   "id": "bcf31357-c22e-4248-9195-bd19b7455b11",
   "metadata": {},
   "source": [
    "2) Descsibe the role of predefined keywords in Python and provide examples of how they are used in a program \n"
   ]
  },
  {
   "cell_type": "markdown",
   "id": "128a8d72-e52d-425f-8e31-10d35bb80cbd",
   "metadata": {},
   "source": [
    "Predefined keywords in Python play a crucial role in defining the structure and syntax of the language. They are reserved words that have specific meanings and purposes, and they cannot be used as identifiers (i.e., names for variables, functions, classes, or other objects). These keywords are fundamental to writing Python code as they enable various programming constructs and functionalities. "
   ]
  },
  {
   "cell_type": "markdown",
   "id": "e470ea3d-8bb8-44b7-aa55-03876a586ecc",
   "metadata": {},
   "source": [
    "1) if, elif, else: Used for conditional statements"
   ]
  },
  {
   "cell_type": "code",
   "execution_count": 1,
   "id": "5afb384b-cfa4-45bd-a1b1-dd570791d8ba",
   "metadata": {},
   "outputs": [
    {
     "name": "stdout",
     "output_type": "stream",
     "text": [
      "x is greater than 5\n"
     ]
    }
   ],
   "source": [
    "x = 10\n",
    "if x > 5:\n",
    "    print(\"x is greater than 5\")\n",
    "elif x == 5:\n",
    "    print(\"x is 5\")\n",
    "else:\n",
    "    print(\"x is less than 5\")"
   ]
  },
  {
   "cell_type": "markdown",
   "id": "a9bff9fc-4353-4ac0-ac23-bd5bb191b659",
   "metadata": {},
   "source": [
    "#for, while: Used for loops"
   ]
  },
  {
   "cell_type": "code",
   "execution_count": 2,
   "id": "55005258-c753-408f-b82f-e8c999d7fe32",
   "metadata": {},
   "outputs": [
    {
     "name": "stdout",
     "output_type": "stream",
     "text": [
      "0\n",
      "1\n",
      "2\n",
      "3\n",
      "4\n",
      "0\n",
      "1\n",
      "2\n",
      "3\n",
      "4\n"
     ]
    }
   ],
   "source": [
    "for i in range(5):\n",
    "    print(i)\n",
    "\n",
    "i = 0\n",
    "while i < 5:\n",
    "    print(i)\n",
    "    i += 1"
   ]
  },
  {
   "cell_type": "markdown",
   "id": "9da209ae-5ab5-4dec-98b1-f5a37857d250",
   "metadata": {},
   "source": [
    "3) break, continue: Used to control loop execution."
   ]
  },
  {
   "cell_type": "code",
   "execution_count": 3,
   "id": "2ae3f974-dee2-4570-9c0a-47d11cc8a710",
   "metadata": {},
   "outputs": [
    {
     "name": "stdout",
     "output_type": "stream",
     "text": [
      "0\n",
      "1\n",
      "2\n",
      "3\n",
      "4\n",
      "1\n",
      "3\n",
      "5\n",
      "7\n",
      "9\n"
     ]
    }
   ],
   "source": [
    "for i in range(10):\n",
    "    if i == 5:\n",
    "        break\n",
    "    print(i)\n",
    "\n",
    "for i in range(10):\n",
    "    if i % 2 == 0:\n",
    "        continue\n",
    "    print(i)"
   ]
  },
  {
   "cell_type": "markdown",
   "id": "4054893a-cb47-476b-b5a9-7603ce04e98f",
   "metadata": {},
   "source": [
    "4)def: Used to define a function"
   ]
  },
  {
   "cell_type": "code",
   "execution_count": 4,
   "id": "be7fb146-8363-4a4c-9143-ac2013158777",
   "metadata": {},
   "outputs": [
    {
     "name": "stdout",
     "output_type": "stream",
     "text": [
      "Hello, Alice!\n"
     ]
    }
   ],
   "source": [
    "def greet(name):\n",
    "    return f\"Hello, {name}!\"\n",
    "\n",
    "print(greet(\"Alice\"))"
   ]
  },
  {
   "cell_type": "markdown",
   "id": "76f3fd29-7125-459d-8a4c-7c59a9768539",
   "metadata": {},
   "source": [
    "5) return: Used to return a value from a function.\n",
    "\n"
   ]
  },
  {
   "cell_type": "code",
   "execution_count": 6,
   "id": "72b1d86a-64bc-4f6e-9d72-9072385e4cee",
   "metadata": {},
   "outputs": [
    {
     "name": "stdout",
     "output_type": "stream",
     "text": [
      "8\n"
     ]
    }
   ],
   "source": [
    "def add(a, b):\n",
    "    return a + b\n",
    "\n",
    "result = add(5, 3)\n",
    "print(result)"
   ]
  },
  {
   "cell_type": "markdown",
   "id": "8cbe0b81-dc3f-486d-af48-2acf4bfeb344",
   "metadata": {},
   "source": [
    "3) Compare and contrast mutable and immutable objects in Python with examples"
   ]
  },
  {
   "cell_type": "markdown",
   "id": "92eedaaa-5425-406a-9110-c20087b71a16",
   "metadata": {},
   "source": [
    "Mutable objects are those whose state or content can be changed after they are created. Common examples of mutable objects in Python include lists, dictionaries, sets"
   ]
  },
  {
   "cell_type": "code",
   "execution_count": 7,
   "id": "9c831177-8185-42a8-89ec-38adf49e7a0d",
   "metadata": {},
   "outputs": [
    {
     "name": "stdout",
     "output_type": "stream",
     "text": [
      "[1, 2, 3, 4]\n"
     ]
    }
   ],
   "source": [
    "#List\n",
    "my_list = [1, 2, 3]\n",
    "my_list.append(4)\n",
    "print(my_list)"
   ]
  },
  {
   "cell_type": "code",
   "execution_count": 8,
   "id": "1692b597-a82b-4fd3-985a-48e6c0eb0a46",
   "metadata": {},
   "outputs": [
    {
     "name": "stdout",
     "output_type": "stream",
     "text": [
      "{'a': 1, 'b': 2, 'c': 3}\n"
     ]
    }
   ],
   "source": [
    "my_dict = {\"a\": 1, \"b\": 2}\n",
    "my_dict[\"c\"] = 3\n",
    "print(my_dict) "
   ]
  },
  {
   "cell_type": "code",
   "execution_count": 9,
   "id": "c93abb88-6d59-4c1f-8872-b88a0f79bbf1",
   "metadata": {},
   "outputs": [
    {
     "name": "stdout",
     "output_type": "stream",
     "text": [
      "{1, 2, 3, 4}\n"
     ]
    }
   ],
   "source": [
    "my_set = {1, 2, 3}\n",
    "my_set.add(4)\n",
    "print(my_set)"
   ]
  },
  {
   "cell_type": "markdown",
   "id": "16efc6c1-fa86-49ed-a822-32bfc158adbe",
   "metadata": {},
   "source": [
    "Immutable objects are those whose state or content cannot be changed once they are created. Common examples of immutable objects in Python include strings, tuples"
   ]
  },
  {
   "cell_type": "code",
   "execution_count": 11,
   "id": "16e385a6-1df7-4f33-8d56-faffd65d53af",
   "metadata": {},
   "outputs": [
    {
     "name": "stdout",
     "output_type": "stream",
     "text": [
      "yello\n",
      "hello\n"
     ]
    }
   ],
   "source": [
    "#strings\n",
    "my_string = \"hello\"\n",
    "new_string = my_string.replace('h', 'y')\n",
    "print(new_string)  \n",
    "print(my_string) "
   ]
  },
  {
   "cell_type": "code",
   "execution_count": 12,
   "id": "07fb6354-25f2-4165-9689-ac8422062024",
   "metadata": {},
   "outputs": [
    {
     "name": "stdout",
     "output_type": "stream",
     "text": [
      "(1, 2, 3)\n"
     ]
    }
   ],
   "source": [
    "#Tuples\n",
    "\n",
    "my_tuple = (1, 2, 3)\n",
    "# my_tuple[0] = 4  # This would raise a TypeError\n",
    "print(my_tuple)"
   ]
  },
  {
   "cell_type": "markdown",
   "id": "0fe096ce-4983-4d79-a859-e2414233f2e4",
   "metadata": {},
   "source": [
    "4) Discuss the different types of operators in Python and provide examples of how they are used"
   ]
  },
  {
   "cell_type": "markdown",
   "id": "c8daa85b-d2e7-469f-816b-3fe28418a362",
   "metadata": {},
   "source": [
    "i) Arithmetic Operators"
   ]
  },
  {
   "cell_type": "code",
   "execution_count": 13,
   "id": "fd1fee35-635b-4441-967a-718ad7a28a1f",
   "metadata": {},
   "outputs": [
    {
     "name": "stdout",
     "output_type": "stream",
     "text": [
      "15\n",
      "5\n",
      "50\n",
      "2.0\n",
      "2\n",
      "0\n",
      "100000\n"
     ]
    }
   ],
   "source": [
    "a = 10\n",
    "b = 5\n",
    "\n",
    "# Addition\n",
    "print(a + b)  \n",
    "\n",
    "# Subtraction\n",
    "print(a - b)  \n",
    "\n",
    "# Multiplication\n",
    "print(a * b) \n",
    "\n",
    "# Division\n",
    "print(a / b) \n",
    "\n",
    "# Integer division\n",
    "print(a // b)  \n",
    "\n",
    "# Modulus\n",
    "print(a % b)  \n",
    "\n",
    "# Exponentiation\n",
    "print(a ** b)  "
   ]
  },
  {
   "cell_type": "markdown",
   "id": "04bc4ae3-6f50-408b-8f4c-2eeb0ad98559",
   "metadata": {},
   "source": [
    "Assignment Operators"
   ]
  },
  {
   "cell_type": "code",
   "execution_count": 14,
   "id": "a7690c81-782f-432a-9bb5-6713bd236dfd",
   "metadata": {},
   "outputs": [
    {
     "name": "stdout",
     "output_type": "stream",
     "text": [
      "7\n",
      "4\n",
      "8\n",
      "2.0\n",
      "2.0\n"
     ]
    }
   ],
   "source": [
    "a = 5  # Assignment\n",
    "a += 2  # Equivalent to: a = a + 2\n",
    "print(a)  # Output: 7\n",
    "\n",
    "a -= 3  # Equivalent to: a = a - 3\n",
    "print(a)  # Output: 4\n",
    "\n",
    "a *= 2  # Equivalent to: a = a * 2\n",
    "print(a)  # Output: 8\n",
    "\n",
    "a /= 4  # Equivalent to: a = a / 4\n",
    "print(a)  # Output: 2.0\n",
    "\n",
    "a %= 3  # Equivalent to: a = a % 3\n",
    "print(a)  # Output: 2\n"
   ]
  },
  {
   "cell_type": "markdown",
   "id": "15a8c376-aabd-4141-97de-e48517b70e43",
   "metadata": {},
   "source": [
    "Comparison Operators"
   ]
  },
  {
   "cell_type": "code",
   "execution_count": 15,
   "id": "9e5bf7d9-c2bb-4909-8570-2748fdc270d3",
   "metadata": {},
   "outputs": [
    {
     "name": "stdout",
     "output_type": "stream",
     "text": [
      "True\n",
      "False\n",
      "False\n",
      "False\n",
      "True\n",
      "True\n"
     ]
    }
   ],
   "source": [
    "a = 5\n",
    "b = 5\n",
    "\n",
    "print(a == b)  # Output: True  (Equal to)\n",
    "print(a != b)  # Output: False  (Not equal to)\n",
    "print(a > b)   # Output: False  (Greater than)\n",
    "print(a < b)   # Output: False  (Less than)\n",
    "print(a >= b)  # Output: True  (Greater than or equal to)\n",
    "print(a <= b)  # Output: True  (Less than or equal to)"
   ]
  },
  {
   "cell_type": "markdown",
   "id": "7951bfa1-a1d3-49ec-8ba0-9e84755cea09",
   "metadata": {},
   "source": [
    "Logical Operators"
   ]
  },
  {
   "cell_type": "code",
   "execution_count": 16,
   "id": "5245218f-56a6-4af5-889b-8ec36dfc8223",
   "metadata": {},
   "outputs": [
    {
     "name": "stdout",
     "output_type": "stream",
     "text": [
      "False\n",
      "True\n",
      "False\n"
     ]
    }
   ],
   "source": [
    "a = True\n",
    "b = False\n",
    "\n",
    "print(a and b)  # Output: False  (Logical AND)\n",
    "print(a or b)   # Output: True   (Logical OR)\n",
    "print(not a)     # Output: False  (Logical NOT)"
   ]
  },
  {
   "cell_type": "markdown",
   "id": "79812dd0-3921-4af6-a749-153027d08633",
   "metadata": {},
   "source": [
    "Bitwise Operators"
   ]
  },
  {
   "cell_type": "code",
   "execution_count": 17,
   "id": "fc5e8ae2-5bd8-4668-a33d-d7902182df21",
   "metadata": {},
   "outputs": [
    {
     "name": "stdout",
     "output_type": "stream",
     "text": [
      "1\n",
      "7\n",
      "6\n",
      "-6\n",
      "20\n",
      "2\n"
     ]
    }
   ],
   "source": [
    "a = 5  # Binary: 0101\n",
    "b = 3  # Binary: 0011\n",
    "\n",
    "print(a & b)  # Output: 1  (Bitwise AND)\n",
    "print(a | b)  # Output: 7  (Bitwise OR)\n",
    "print(a ^ b)  # Output: 6  (Bitwise XOR)\n",
    "print(~a)      # Output: -6 (Bitwise NOT)\n",
    "print(a << 2)  # Output: 20 (Bitwise left shift)\n",
    "print(a >> 1)  # Output: 2  (Bitwise right shift)"
   ]
  },
  {
   "cell_type": "markdown",
   "id": "771256a1-d078-4399-9c52-a25b43bb97ad",
   "metadata": {},
   "source": [
    "Identity Operators"
   ]
  },
  {
   "cell_type": "code",
   "execution_count": 18,
   "id": "581b91b1-6894-4f62-83db-67012683acf7",
   "metadata": {},
   "outputs": [
    {
     "name": "stdout",
     "output_type": "stream",
     "text": [
      "False\n",
      "True\n"
     ]
    }
   ],
   "source": [
    "a = [1, 2, 3]\n",
    "b = [1, 2, 3]\n",
    "\n",
    "print(a is b)     # Output: False  (Check if a and b are the same object)\n",
    "print(a is not b) # Output: True  (Check if a and b are not the same object)"
   ]
  },
  {
   "cell_type": "markdown",
   "id": "159a96bb-19f5-4fda-baba-0bd64a978f24",
   "metadata": {},
   "source": [
    "5) Explain the concept of type casting in Python with examples"
   ]
  },
  {
   "cell_type": "markdown",
   "id": "3f762135-da39-47a0-a0b6-36dcb67f55ed",
   "metadata": {},
   "source": [
    "Type casting in Python is the process of converting a variable from one data type to another."
   ]
  },
  {
   "cell_type": "markdown",
   "id": "679092d0-6bc4-41c0-9a20-e933ec940f80",
   "metadata": {},
   "source": [
    "i) Implicit Type Casting\n",
    "\n",
    "Implicit type casting, also known as automatic type conversion, occurs when Python automatically converts a variable to a more suitable type based on the operation being performed. "
   ]
  },
  {
   "cell_type": "code",
   "execution_count": 20,
   "id": "ade7f746-27d5-4d29-b9c1-b7b7c74d6010",
   "metadata": {},
   "outputs": [
    {
     "name": "stdout",
     "output_type": "stream",
     "text": [
      "30.5\n"
     ]
    }
   ],
   "source": [
    "num1 = 10  # Integer\n",
    "num2 = 20.5  # Float\n",
    "\n",
    "# Implicit type conversion during addition\n",
    "result = num1 + num2\n",
    "print(result)"
   ]
  },
  {
   "cell_type": "markdown",
   "id": "e5072bdf-db96-417f-a7ca-a82692cd0427",
   "metadata": {},
   "source": [
    "ii) Explicit Type Casting \n",
    "\n",
    "Explicit type casting requires you to use built-in functions to convert a variable from one type to another."
   ]
  },
  {
   "cell_type": "code",
   "execution_count": 21,
   "id": "9bfbc38b-8566-4331-aa4e-b67e5d2ac604",
   "metadata": {},
   "outputs": [
    {
     "name": "stdout",
     "output_type": "stream",
     "text": [
      "10.0\n"
     ]
    }
   ],
   "source": [
    "# Converting an integer to a float\n",
    "num1 = 10\n",
    "result = float(num1)\n",
    "print(result) "
   ]
  },
  {
   "cell_type": "markdown",
   "id": "b00ad909-c4e6-4f45-8fb5-400d69160881",
   "metadata": {},
   "source": [
    "6) How do conditional statements work in Python? Illustrate with examples"
   ]
  },
  {
   "cell_type": "markdown",
   "id": "d0624821-4daf-469e-8aa8-3a70ae7773d2",
   "metadata": {},
   "source": [
    "i) if Statement"
   ]
  },
  {
   "cell_type": "code",
   "execution_count": 23,
   "id": "12dcf872-a4bc-4c0f-a61c-41363fe16879",
   "metadata": {},
   "outputs": [
    {
     "name": "stdout",
     "output_type": "stream",
     "text": [
      "x is greater than 5\n"
     ]
    }
   ],
   "source": [
    "x = 10\n",
    "if x > 5:\n",
    "    print(\"x is greater than 5\")\n",
    "# Output: x is greater than 5"
   ]
  },
  {
   "cell_type": "markdown",
   "id": "47c9554e-93c5-4bc2-8dbb-5f5765ec9690",
   "metadata": {},
   "source": [
    "ii) if-else Statement"
   ]
  },
  {
   "cell_type": "code",
   "execution_count": 25,
   "id": "65e2dfaa-6614-44da-af70-4877e6f95029",
   "metadata": {},
   "outputs": [
    {
     "name": "stdout",
     "output_type": "stream",
     "text": [
      "x is not greater than 5\n"
     ]
    }
   ],
   "source": [
    "x = 3\n",
    "if x > 5:\n",
    "    print(\"x is greater than 5\")\n",
    "else:\n",
    "    print(\"x is not greater than 5\")"
   ]
  },
  {
   "cell_type": "markdown",
   "id": "c372f38e-4016-44b1-9447-9fd820dac1d3",
   "metadata": {},
   "source": [
    "iii) if-elif-else Statement"
   ]
  },
  {
   "cell_type": "code",
   "execution_count": 26,
   "id": "615b4295-e949-41db-bf3d-f8cae5546568",
   "metadata": {},
   "outputs": [
    {
     "name": "stdout",
     "output_type": "stream",
     "text": [
      "x is greater than 5 but less than or equal to 10\n"
     ]
    }
   ],
   "source": [
    "x = 7\n",
    "if x > 10:\n",
    "    print(\"x is greater than 10\")\n",
    "elif x > 5:\n",
    "    print(\"x is greater than 5 but less than or equal to 10\")\n",
    "else:\n",
    "    print(\"x is 5 or less\")\n"
   ]
  },
  {
   "cell_type": "markdown",
   "id": "4997dc6a-9d88-4205-8f0b-6db0d007b58e",
   "metadata": {},
   "source": [
    "iv) Ternary Operator"
   ]
  },
  {
   "cell_type": "code",
   "execution_count": 27,
   "id": "33e4c785-e8ac-4a18-aff4-cfe61e7bbd80",
   "metadata": {},
   "outputs": [
    {
     "name": "stdout",
     "output_type": "stream",
     "text": [
      "x is even\n"
     ]
    }
   ],
   "source": [
    "x = 10\n",
    "result = \"x is even\" if x % 2 == 0 else \"x is odd\"\n",
    "print(result)"
   ]
  },
  {
   "cell_type": "markdown",
   "id": "ba5c7543-b643-4fa9-bcf0-863eb57d27a5",
   "metadata": {},
   "source": [
    "7) Describe the different types of loops in Python and their use cases with examples."
   ]
  },
  {
   "cell_type": "markdown",
   "id": "d43369ab-ff3e-45ed-b9ab-4f3afaa3cf63",
   "metadata": {},
   "source": [
    "i) for Loop"
   ]
  },
  {
   "cell_type": "code",
   "execution_count": 28,
   "id": "43454683-b6d5-48aa-9258-0df8177c5b60",
   "metadata": {},
   "outputs": [
    {
     "name": "stdout",
     "output_type": "stream",
     "text": [
      "apple\n",
      "banana\n",
      "cherry\n"
     ]
    }
   ],
   "source": [
    "fruits = [\"apple\", \"banana\", \"cherry\"]\n",
    "for fruit in fruits:\n",
    "    print(fruit)"
   ]
  },
  {
   "cell_type": "markdown",
   "id": "3d777ca4-cf51-4477-ab7a-938c83f34c50",
   "metadata": {},
   "source": [
    "ii) while Loop"
   ]
  },
  {
   "cell_type": "code",
   "execution_count": 29,
   "id": "87f9782d-c9dc-41fe-8fb1-d87e6f3dddc3",
   "metadata": {},
   "outputs": [
    {
     "name": "stdout",
     "output_type": "stream",
     "text": [
      "0\n",
      "1\n",
      "2\n",
      "3\n",
      "4\n"
     ]
    }
   ],
   "source": [
    "count = 0\n",
    "while count < 5:\n",
    "    print(count)\n",
    "    count += 1"
   ]
  },
  {
   "cell_type": "code",
   "execution_count": null,
   "id": "acaa95f2-161a-4991-a13d-6eb109786f9c",
   "metadata": {},
   "outputs": [],
   "source": []
  }
 ],
 "metadata": {
  "kernelspec": {
   "display_name": "Python 3 (ipykernel)",
   "language": "python",
   "name": "python3"
  },
  "language_info": {
   "codemirror_mode": {
    "name": "ipython",
    "version": 3
   },
   "file_extension": ".py",
   "mimetype": "text/x-python",
   "name": "python",
   "nbconvert_exporter": "python",
   "pygments_lexer": "ipython3",
   "version": "3.10.8"
  }
 },
 "nbformat": 4,
 "nbformat_minor": 5
}
